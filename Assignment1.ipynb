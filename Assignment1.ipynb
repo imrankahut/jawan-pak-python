{
 "cells": [
  {
   "cell_type": "code",
   "execution_count": 12,
   "id": "5031c7e5",
   "metadata": {},
   "outputs": [
    {
     "name": "stdout",
     "output_type": "stream",
     "text": [
      "Twinkle, twinke, little star,\n",
      "         How I wonder what you are!\n",
      "                 Up above the world so high,\n",
      "                 Like a diamond in the sky.\n",
      "Twinkle, twinke, little star,\n",
      "         How I wonder what you are!\n"
     ]
    }
   ],
   "source": [
    "a = \"Twinkle, twinke, little star,\";\n",
    "b = \"         How I wonder what you are!\";\n",
    "c = \"                 Up above the world so high,\";\n",
    "d = \"                 Like a diamond in the sky.\";\n",
    "print (a);\n",
    "print (b);\n",
    "print (c);\n",
    "print (d);\n",
    "print (a);\n",
    "print (b);"
   ]
  },
  {
   "cell_type": "code",
   "execution_count": 29,
   "id": "e7822d0b",
   "metadata": {},
   "outputs": [
    {
     "name": "stdout",
     "output_type": "stream",
     "text": [
      "Twinkle, twinke, little star,\n",
      " \t How I wonder what you are! \n",
      " \t \tUp above the world so high, \n",
      " \t \tLike a diamond in the sky. \n",
      "Twinkle, twinke, little star,\n",
      " \t How I wonder what you are!\n"
     ]
    }
   ],
   "source": [
    "print(\"Twinkle, twinke, little star,\\n \\t How I wonder what you are! \\n \\t \\tUp above the world so high, \\n \\t \\tLike a diamond in the sky. \\nTwinkle, twinke, little star,\\n \\t How I wonder what you are!\");"
   ]
  },
  {
   "cell_type": "code",
   "execution_count": 40,
   "id": "ebfa053d",
   "metadata": {},
   "outputs": [
    {
     "name": "stdout",
     "output_type": "stream",
     "text": [
      "3.9.7 (default, Sep 16 2021, 16:59:28) [MSC v.1916 64 bit (AMD64)]\n"
     ]
    }
   ],
   "source": [
    "print (sys.version);"
   ]
  },
  {
   "cell_type": "code",
   "execution_count": 39,
   "id": "c8c02b0b",
   "metadata": {},
   "outputs": [
    {
     "name": "stdout",
     "output_type": "stream",
     "text": [
      "30-Dec-2021 06:22:00\n"
     ]
    }
   ],
   "source": [
    "import datetime;\n",
    "now = datetime.datetime.now();\n",
    "print (now.strftime(\"%d-%b-%Y %I:%M:%S\"));"
   ]
  },
  {
   "cell_type": "code",
   "execution_count": 41,
   "id": "1cc8bfc5",
   "metadata": {},
   "outputs": [
    {
     "name": "stdout",
     "output_type": "stream",
     "text": [
      "Please Input the radius of the circle: 1\n",
      "The area of the circle with radius 1.0 is: 3.141592653589793\n"
     ]
    }
   ],
   "source": [
    "from math import pi;\n",
    "r = float(input (\"Please Input the radius of the circle: \"));\n",
    "print (\"The area of the circle with radius \" + str(r) + \" is: \" + str(pi * r**2));"
   ]
  },
  {
   "cell_type": "code",
   "execution_count": 46,
   "id": "a8d5b8fa",
   "metadata": {},
   "outputs": [
    {
     "name": "stdout",
     "output_type": "stream",
     "text": [
      "Please Input your first name:imran\n",
      "Please Input your last name:yousaf\n",
      "yousaf imran\n"
     ]
    }
   ],
   "source": [
    "first = input (\"Please Input your first name:\");\n",
    "last = input (\"Please Input your last name:\");\n",
    "print (last + \" \" +first);"
   ]
  },
  {
   "cell_type": "code",
   "execution_count": 48,
   "id": "570dc18d",
   "metadata": {},
   "outputs": [
    {
     "name": "stdout",
     "output_type": "stream",
     "text": [
      "Please enter your first number:1\n",
      "Please enter your second number:2\n",
      "3.0\n"
     ]
    }
   ],
   "source": [
    "a = float(input(\"Please enter your first number:\"));\n",
    "b = float(input(\"Please enter your second number:\"));\n",
    "print (a+b);"
   ]
  }
 ],
 "metadata": {
  "kernelspec": {
   "display_name": "Python 3 (ipykernel)",
   "language": "python",
   "name": "python3"
  },
  "language_info": {
   "codemirror_mode": {
    "name": "ipython",
    "version": 3
   },
   "file_extension": ".py",
   "mimetype": "text/x-python",
   "name": "python",
   "nbconvert_exporter": "python",
   "pygments_lexer": "ipython3",
   "version": "3.9.7"
  }
 },
 "nbformat": 4,
 "nbformat_minor": 5
}
